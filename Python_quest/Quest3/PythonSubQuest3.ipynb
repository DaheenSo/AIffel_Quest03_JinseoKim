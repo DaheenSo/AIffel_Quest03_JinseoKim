{
  "nbformat": 4,
  "nbformat_minor": 0,
  "metadata": {
    "colab": {
      "provenance": [],
      "include_colab_link": true
    },
    "kernelspec": {
      "name": "python3",
      "display_name": "Python 3"
    },
    "language_info": {
      "name": "python"
    }
  },
  "cells": [
    {
      "cell_type": "markdown",
      "metadata": {
        "id": "view-in-github",
        "colab_type": "text"
      },
      "source": [
        "<a href=\"https://colab.research.google.com/github/meem3443/AIffel_Quest/blob/master/Python_quest/Quest3/PythonSubQuest3.ipynb\" target=\"_parent\"><img src=\"https://colab.research.google.com/assets/colab-badge.svg\" alt=\"Open In Colab\"/></a>"
      ]
    },
    {
      "cell_type": "markdown",
      "source": [
        "## 문제의 조건\n",
        "___"
      ],
      "metadata": {
        "id": "FNTCOdKrP85j"
      }
    },
    {
      "cell_type": "markdown",
      "source": [
        " <span style=\"color:red\">조건 1 : 어떤 함수의 내부 함수일 것 </span>\n",
        "\n",
        " <span style=\"background-color:#FFE6E6\"> 조건 2 : 그 내부 함수가 외부 함수의 변수를 참조할 것</span>\n",
        "\n",
        "<span style=\"background-color:#FFE6E6\">조건 3 : 외부 함수가 내부 함수를 리턴할 것 </span>\n",
        "\n",
        "###회고\n",
        "***\n",
        "김진서 : 기초적인 문법을 탄탄하게 다뤄야함을 느낄수 있었음. 특히 dir을 통한 내부구조를 분석하는것, nonlocal을 통해 scope를 극대화 하여 사용하는 것이 중요함을 알게해주는 귀중한 Node였다.\n",
        "\n",
        "유제민 : Quest에 대한 추가 설명이 자세히 적혀있어 쉬울거라 예상했으나 아직 클로저에 대한 개념이 크게 안잡혀 있다는 걸 깨달았으며 자바와는 다르다는걸 확실히 느꼈다.\n"
      ],
      "metadata": {
        "id": "cLQa5i7iBNqe"
      }
    },
    {
      "cell_type": "code",
      "execution_count": null,
      "metadata": {
        "colab": {
          "base_uri": "https://localhost:8080/"
        },
        "id": "8pNp6nV0BF2a",
        "outputId": "d54e5fb0-a6fa-4fb9-d971-8e9ceb9dbaf1"
      },
      "outputs": [
        {
          "output_type": "stream",
          "name": "stdout",
          "text": [
            "최솟값: 3\n",
            "최댓값: 12\n"
          ]
        }
      ],
      "source": [
        "def find_min_max(numbers):\n",
        "    # min_value와 max_value 변수를 초기화\n",
        "    # min_value는 양의 무한대(float('inf'))로 초기화하여 어떤 숫자보다도 큰 값으로 설정\n",
        "    min_value = float('inf')\n",
        "    # max_value는 음의 무한대(float('-inf'))로 초기화하여 어떤 숫자보다도 작은 값으로 설정\n",
        "    max_value = float('-inf')\n",
        "\n",
        "    def update_min_max(num):\n",
        "        # 외부함수의 변수인 min_value, max_value 참조\n",
        "        # 처음 코드를 작성할 때 nonlocal 에 대한 개념이 확실하게 잡히지 않아서 없어도 상위 변수 값을 가져올 수 있다고 생각했음\n",
        "        # nonlocal 없이 실행 했을 때 UnboundLocalError: cannot access local variable 'max_value' where it is not associated with a value 에 대한 오류가 나왔고\n",
        "        # 외부함수의 변수를 호출하지 못 하는 것을 알게 되어 nonlocal을 추가\n",
        "        nonlocal max_value\n",
        "        nonlocal min_value\n",
        "\n",
        "        # 만약 num 값이 min_value보다 작다면 min_value를 num 값으로 변경\n",
        "        if num > max_value:\n",
        "          max_value = num\n",
        "\n",
        "        # 만약 num 값이 max_value보다 크다면 max_value를 num 값으로 변경\n",
        "        if num < min_value:\n",
        "          min_value = num\n",
        "\n",
        "\n",
        "    # numbers 리스트의 모든 값을 순환하며 최댓값과 최솟값 업데이트\n",
        "    for num in numbers:\n",
        "        update_min_max(num)\n",
        "\n",
        "    # 최솟값을 반환하는 내부함수\n",
        "    def get_min():\n",
        "      return min_value\n",
        "\n",
        "\n",
        "    # 최댓값을 반환하는 내부함수\n",
        "    def get_max():\n",
        "      return max_value\n",
        "\n",
        "    return get_min, get_max #get_min(), get_max()로 호출하지 않도록 한다. => 결과값을 리턴하기 때문에 int가 return 되기 때문임.\n",
        "\n",
        "\n",
        "\n",
        "\n",
        "    # 외부함수는 내부함수(get_min()과 get_max())를 반환\n",
        "\n",
        "\n",
        "\n",
        "numbers = [10, 5, 8, 12, 3, 7]\n",
        "find_min, find_max = find_min_max(numbers)\n",
        "\n",
        "print(\"최솟값:\", find_min())  # 3\n",
        "print(\"최댓값:\", find_max())  # 12\n"
      ]
    },
    {
      "cell_type": "code",
      "source": [
        "def counter(fn):\n",
        "    tryCount = 0 #실행횟수를 기록하는 변수입니다.\n",
        "    def deco():\n",
        "        nonlocal tryCount #내부함수에서 외부함수의 변수에 접근합니다.\n",
        "        tryCount = tryCount + 1\n",
        "        fn() # print('say_hello 실행횟수: {0}'.format(count)) 로 작성했었으나\n",
        "        print('{0} 실행횟수:{1} '.format(fn.__name__,tryCount)) # 함수의 이름은 함수이름.__name__으로 접근할 수 있습니다. 를 보고 fn.__name__으로 코드 변경\n",
        "    return deco\n",
        "\n",
        "@counter #데코레이터를 통해서 즉시 실행합니다.\n",
        "def say_hello():\n",
        "    print(\"Hello Aiffel!\")\n",
        "\n",
        "for i in range(5):\n",
        "    say_hello()"
      ],
      "metadata": {
        "id": "EZl7k0KKBLcV",
        "colab": {
          "base_uri": "https://localhost:8080/"
        },
        "outputId": "22fba6b4-38c6-4554-c510-542f39e000b8"
      },
      "execution_count": null,
      "outputs": [
        {
          "output_type": "stream",
          "name": "stdout",
          "text": [
            "Hello Aiffel!\n",
            "say_hello 실행횟수:1 \n",
            "Hello Aiffel!\n",
            "say_hello 실행횟수:2 \n",
            "Hello Aiffel!\n",
            "say_hello 실행횟수:3 \n",
            "Hello Aiffel!\n",
            "say_hello 실행횟수:4 \n",
            "Hello Aiffel!\n",
            "say_hello 실행횟수:5 \n"
          ]
        }
      ]
    }
  ]
}