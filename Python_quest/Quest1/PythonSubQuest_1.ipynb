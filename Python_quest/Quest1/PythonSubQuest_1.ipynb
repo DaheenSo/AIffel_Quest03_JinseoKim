{
  "nbformat": 4,
  "nbformat_minor": 0,
  "metadata": {
    "colab": {
      "provenance": [],
      "authorship_tag": "ABX9TyPGM5mxm9jxzbSnWX3vF+qW",
      "include_colab_link": true
    },
    "kernelspec": {
      "name": "python3",
      "display_name": "Python 3"
    },
    "language_info": {
      "name": "python"
    }
  },
  "cells": [
    {
      "cell_type": "markdown",
      "metadata": {
        "id": "view-in-github",
        "colab_type": "text"
      },
      "source": [
        "<a href=\"https://colab.research.google.com/github/meem3443/AIffel_Quest/blob/master/Python_quest/Quest1/PythonSubQuest_1.ipynb\" target=\"_parent\"><img src=\"https://colab.research.google.com/assets/colab-badge.svg\" alt=\"Open In Colab\"/></a>"
      ]
    },
    {
      "cell_type": "code",
      "source": [
        "#'''회문이란? 앞으로도 뒤로도 뒤집었을떄 전부 같은것을 뜻합니다.\n",
        "\n",
        "#1. 들어온 입력을 뒤접어서 출력해주세요\n",
        "#2. 해당 입력이 회문인지 판단하세요\n",
        "\n",
        "\n",
        "# 핵심.\n",
        "# 문자열을 입력받고 슬라이싱,인덱싱을 역순으로 진행하여 따로 값을 저장합니다.\n",
        "# 두 문자열을 비교하여 정확히 같다면 넘어갑니다.\n",
        "\n",
        "originalWord = input(\"회문확인을 위한 문자열을 입력하세요: \") #입력을 받습니다.\n",
        "reversedWord = '' #뒤집어진 단어를 저장하는 변수입니다.\n",
        "slicingNum = -1 #한단어씩 가져와야하기 때문에 번호를 지정합니다.\n",
        "\n",
        "for i in range(len(originalWord)):\n",
        "  print('slicingNum  1 :', slicingNum)\n",
        "  reversedWord += originalWord[slicingNum:slicingNum-1]\n",
        "  print('뒤집힌 단어 1 :', reversedWord)\n",
        "  slicingNum += -1\n",
        "  print('slicingNum 1 :', slicingNum)\n",
        "\n",
        "print('뒤집힌 단어는 :', originalWord)\n",
        "print('입력한 출력값은 :', reversedWord)\n",
        "\n",
        "\n",
        "\n",
        "\n"
      ],
      "metadata": {
        "id": "M-vlZUeLXIZe"
      },
      "execution_count": null,
      "outputs": []
    },
    {
      "cell_type": "markdown",
      "source": [
        "아래는 의도대로 작동하지 않는 코드 입니다.\n",
        "slicing을 통해 값을 가져 오려 했지만\n"
      ],
      "metadata": {
        "id": "mUyLP_XoZIFQ"
      }
    },
    {
      "cell_type": "code",
      "source": [
        "def reverseString(s) :\n",
        "  # 주어진 문자열을 뒤집어서 반환하는 함수\n",
        "  # 문자열을 역순으로 가져와 reversedWord에 저장합니다.\n",
        "  reversedWord = ''  # 뒤집어진 단어를 저장하는 변수입니다.\n",
        "  slicingNum = -1  # 한 단어씩 가져와야 하기 때문에 번호를 지정합니다.\n",
        "  for i in range(len(originalWord)):\n",
        "      reversedWord += originalWord[slicingNum]\n",
        "      print('reversedWord  1 :', reversedWord)\n",
        "      slicingNum -= 1\n",
        "  return reversedWord\n",
        "\n",
        "def isPalindrome(s) :\n",
        "  # 주어진 문자열이 회문인지 확인하는 함수\n",
        "  reversedWord = reverseString(s)\n",
        "  return s == reversedWord\n",
        "\n",
        "# 문자열 입력 받기\n",
        "originalWord = input(\"회문확인을 위한 문자열을 입력하세요: \")  # 입력을 받습니다.\n",
        "\n",
        "reversedWord = reverseString(originalWord)\n",
        "# 뒤집힌 단어 출력\n",
        "print('뒤집힌 단어는:', reversedWord)\n",
        "\n",
        "# 회문 여부 판단 및 출력\n",
        "if isPalindrome(originalWord):\n",
        "    print('입력한 문자열은 회문입니다.')\n",
        "else:\n",
        "    print('입력한 문자열은 회문이 아닙니다.')"
      ],
      "metadata": {
        "id": "jfeo5-XVZDbD"
      },
      "execution_count": null,
      "outputs": []
    }
  ]
}